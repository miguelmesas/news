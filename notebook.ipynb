{
 "cells": [
  {
   "cell_type": "code",
   "execution_count": 2,
   "id": "dc3ab5a8",
   "metadata": {},
   "outputs": [],
   "source": [
    "import requests\n",
    "from bs4 import BeautifulSoup"
   ]
  },
  {
   "cell_type": "code",
   "execution_count": 3,
   "id": "9dfbd4f2",
   "metadata": {},
   "outputs": [],
   "source": [
    "page_name = 'El Tiempo'\n",
    "page_url = 'https://eltiempo.com'"
   ]
  },
  {
   "cell_type": "code",
   "execution_count": 4,
   "id": "974f8c54",
   "metadata": {},
   "outputs": [],
   "source": [
    "response = requests.get(page_url)\n"
   ]
  },
  {
   "cell_type": "code",
   "execution_count": 5,
   "id": "399e0063",
   "metadata": {},
   "outputs": [],
   "source": [
    "soup = BeautifulSoup(response.content, 'html.parser')"
   ]
  },
  {
   "cell_type": "code",
   "execution_count": 6,
   "id": "43dfbef7",
   "metadata": {},
   "outputs": [
    {
     "data": {
      "text/plain": [
       "50"
      ]
     },
     "execution_count": 6,
     "metadata": {},
     "output_type": "execute_result"
    }
   ],
   "source": [
    "articles = soup.find_all('a', class_='title page-link')\n",
    "#articles = soup.find_all(attrs={'class': 'title page_link'})\n",
    "#articles = soup.select('#m3083-3-3084')\n",
    "len(articles)\n",
    "\n",
    "#main-layout > div > section.Layout-mainHomeB > div > div.Grid.pure-g.pure-u-1 > div > div:nth-child(1) > div.Card-Container > h2 > a"
   ]
  },
  {
   "cell_type": "code",
   "execution_count": 7,
   "id": "3fb6eb13",
   "metadata": {},
   "outputs": [
    {
     "data": {
      "text/plain": [
       "[<a class=\"title page-link\" href=\"/colombia/medellin/dario-gomez-velatorio-sera-hasta-el-jueves-28-el-mediodia-690653\" id=\"m3512-3511-3513\">Darío Gómez: fanáticos y músicos despiden al 'Rey del despecho'</a>,\n",
       " <a class=\"title page-link\" href=\"/datos/cuanto-ganan-en-colombia-los-congresistas-en-2022-688238\" id=\"m13352-3-13353\">Sueldo de congresistas en Colombia: ¿cómo ha aumentado en los últimos años?</a>,\n",
       " <a class=\"title page-link\" href=\"/bogota/manifestaciones-en-bogota-hoy-bicitaxistas-bloquean-autopista-norte-690668\" id=\"m13403-4-13404\">¡Atención! Bicitaxistas bloquean varios puntos de la ciudad</a>,\n",
       " <a class=\"title page-link\" href=\"/unidad-investigativa/centro-de-memoria-historica-otra-megaobra-atrasada-de-la-espanola-ohla-690722\" id=\"m13447-4-13448\">La otra megaobra atrasada de la misma firma de los líos del AeroCafé</a>,\n",
       " <a class=\"title page-link\" href=\"/colombia/otras-ciudades/migrantes-venezolanos-se-ahogaron-en-el-rio-bravo-frontera-mexico-ee-uu-690654\" id=\"m13491-4-13492\">La tragedia de pareja que salió de Cartagena hacia EE. UU. y murió en 'el hueco'</a>,\n",
       " <a class=\"title page-link\" href=\"/justicia/conflicto-y-narcotrafico/disidencias-pagaron-7-mil-millones-para-asesinar-a-ivan-duque-690733\" id=\"m13528-3-13529\">'Jhon Mechas' pagó $ 7.000 millones para atentar contra Duque: general Vargas</a>,\n",
       " <a class=\"title page-link\" href=\"/economia/finanzas-personales/deudas-las-tres-cosas-para-las-cuales-nunca-se-debe-pedir-prestado-690637\" id=\"m13559-3-13560\">Tres cosas para las cuales nunca se debe adquirir una deuda</a>,\n",
       " <a class=\"title page-link\" href=\"/politica/congreso/polemica-por-decision-de-rebajar-salario-de-congresistas-pero-desde-2026-690647\" id=\"m13590-3-13591\">La polémica propuesta de reducción de salarios de congresistas, pero desde 2026</a>,\n",
       " <a class=\"title page-link\" href=\"/politica/congreso/contralor-en-que-va-la-eleccion-en-el-congreso-690633\" id=\"m13621-3-13622\">El nuevo capítulo de la novela de la elección del contralor</a>,\n",
       " <a class=\"title page-link\" href=\"/politica/congreso/pacto-historico-llamado-unanime-a-bandas-a-detener-plan-pistola-690704\" id=\"m13652-3-13653\">Cumbre del Pacto Histórico: llamado unánime a bandas a detener 'plan pistola'</a>,\n",
       " <a class=\"title page-link\" href=\"/economia/sectores/fmi-predicciones-para-el-crecimiento-de-la-economia-colombiana-690598\" id=\"m13683-3-13684\">¿Por qué el FMI dice que el crecimiento económico del país doblará el del mundo?</a>,\n",
       " <a class=\"title page-link\" href=\"/mundo/eeuu-y-canada/viktor-bout-quien-es-el-preso-que-estados-unidos-y-rusia-intercambiaran-690678\" id=\"m13714-3-13715\">Quién es Viktor Bout, uno de los presos que EE. UU. y Rusia intercambiarán</a>,\n",
       " <a class=\"title page-link\" href=\"/bogota/balacera-en-el-norte-de-bogota-termina-con-un-escolta-muerto-690716\" id=\"m13745-3-13746\">Balacera en el norte de Bogotá termina con un escolta muerto</a>,\n",
       " <a class=\"title page-link\" href=\"/podcast/el-primer-cafe/plan-pistola-del-clan-del-golfo-que-pretende-con-ola-de-ataques-690623\" id=\"m601-2-602\">(El primer café) 'Plan Pistola' del Clan del Golfo: ¿qué pretende con ola de ataques?<br/></a>,\n",
       " <a class=\"title page-link\" href=\"/opinion/editorial/colombia-se-reactivo-editorial-el-tiempo-690590\" id=\"m13782-1-13783\">Colombia se reactivó</a>,\n",
       " <a class=\"title page-link\" href=\"/politica/congreso/pacto-historico-llamado-unanime-a-bandas-a-detener-plan-pistola-690704\" id=\"m13819-3-13820\">Cumbre del Pacto Histórico: llamado unánime a bandas a detener 'plan pistola'</a>,\n",
       " <a class=\"title page-link\" href=\"/economia/sectores/fmi-predicciones-para-el-crecimiento-de-la-economia-colombiana-690598\" id=\"m13850-3-13851\">¿Por qué el FMI dice que el crecimiento económico del país doblará el del mundo?</a>,\n",
       " <a class=\"title page-link\" href=\"/mundo/eeuu-y-canada/viktor-bout-quien-es-el-preso-que-estados-unidos-y-rusia-intercambiaran-690678\" id=\"m13881-3-13882\">Quién es Viktor Bout, uno de los presos que EE. UU. y Rusia intercambiarán</a>,\n",
       " <a class=\"title page-link\" href=\"/bogota/balacera-en-el-norte-de-bogota-termina-con-un-escolta-muerto-690716\" id=\"m13912-3-13913\">Balacera en el norte de Bogotá termina con un escolta muerto</a>,\n",
       " <a class=\"title page-link\" href=\"/economia/sector-financiero/competencia-las-ordenes-perentorias-de-la-sic-a-visa-y-mastercard-690670\" id=\"m13943-3-13944\">Ordenan a Visa y a Mastercard no hacerles zancadilla a sus competidores</a>,\n",
       " <a class=\"title page-link\" href=\"/justicia/conflicto-y-narcotrafico/clan-del-golfo-extraditan-a-tres-cabecillas-del-por-narcotrafico-690713\" id=\"m13974-3-13975\">Extraditan a 'Plástico' y dos cabecillas más del 'clan del Golfo' a EE. UU.</a>,\n",
       " <a class=\"title page-link\" href=\"/contenido-comercial/ciudad-dentro-de-la-ciudad-asi-transformamos-vidas-689052\" id=\"m336-3-337\">‘Ciudad dentro de la ciudad’: así transformamos vidas</a>,\n",
       " <a class=\"title page-link\" href=\"/mas-contenido/el-valle-con-mucho-para-dar-688235\" id=\"m568-3-569\">El Valle, una región con mucho para dar</a>,\n",
       " <a class=\"title page-link\" href=\"/opinion/editorial/colombia-se-reactivo-editorial-el-tiempo-690590\" id=\"m14017-1-14018\">Colombia se reactivó</a>,\n",
       " <a class=\"title page-link\" href=\"/contenido-comercial/ciudad-dentro-de-la-ciudad-asi-transformamos-vidas-689052\" id=\"m336-3-337\">‘Ciudad dentro de la ciudad’: así transformamos vidas</a>,\n",
       " <a class=\"title page-link\" href=\"/mas-contenido/el-valle-con-mucho-para-dar-688235\" id=\"m568-3-569\">El Valle, una región con mucho para dar</a>,\n",
       " <a class=\"title page-link\" href=\"/salud/melanoma-sintomas-del-cancer-de-piel-descubralo-a-tiempo-690496\" id=\"m765-5-766\">Melanoma: síntomas del cáncer de piel | Descúbralo a tiempo</a>,\n",
       " <a class=\"title page-link\" href=\"/deportes/futbol-internacional/shakira-y-pique-te-felicito-sono-en-el-camerino-del-barcelona-en-dallas-690437\" id=\"m814-4-815\">¿Shakira y Piqué no se separan? Así sonó 'Te felicito' en camerino de Barcelona</a>,\n",
       " <a class=\"title page-link\" href=\"/deportes/futbol-internacional/leicy-santos-de-seleccion-colombia-tiene-inundada-la-casa-de-sus-papas-690478\" id=\"m858-5-859\">Leicy Santos: piden ayuda por inundación de la casa familiar de la futbolista</a>,\n",
       " <a class=\"title page-link\" href=\"/tecnosfera/novedades-tecnologia/musk-bezos-y-steve-jobs-los-mejores-consejos-para-ser-mas-productivo-690642\" id=\"m908-4-909\">Cómo ser más productivo: los consejos de Elon Musk, Jeff Bezos y Steve Jobs</a>,\n",
       " <a class=\"title page-link\" href=\"/mundo/eeuu-y-canada/gypsy-rose-la-nina-que-mato-a-su-mama-despues-de-salir-del-cancer-690556\" id=\"m946-3-947\">De paciente de cáncer a asesina: Gypsy Rose, la tierna niña que mató a su mamá</a>,\n",
       " <a class=\"title page-link\" href=\"/mundo/mas-regiones/teletrabajo-las-10-mejores-islas-para-trabajar-de-manera-remota-690455\" id=\"m977-3-978\">Las 10 mejores islas para trabajar de manera remota</a>,\n",
       " <a class=\"title page-link\" href=\"/mundo/eeuu-y-canada/migracion-a-ee-uu-coyotes-enganan-a-viajeros-ilegales-por-facebook-690465\" id=\"m1231-5-1232\">Migración a EE. UU. por 'el hueco': Así engañan los coyotes a través de Facebook</a>,\n",
       " <a class=\"title page-link\" href=\"/cultura/gente/ben-affleck-expareja-del-actor-habria-enviado-regalo-a-los-recien-casados-690657\" id=\"m1275-4-1276\">El regalo que la exesposa de Ben Affleck le envió a JLo por su boda</a>,\n",
       " <a class=\"title page-link\" href=\"/contenido-comercial/implante-capilar-como-escoger-la-mejor-opcion-686754\" id=\"m333-3-334\">Implante capilar, ¿cómo escoger la mejor opción?</a>,\n",
       " <a class=\"title page-link\" href=\"/mundo/europa/guardias-de-la-reina-isabel-por-que-le-gritan-a-algunos-turistas-690685\" id=\"m1325-4-1326\">¿Por qué los guardias reales de la Reina Isabel les gritan a algunos turistas?</a>,\n",
       " <a class=\"title page-link\" href=\"/tecnosfera/tutoriales-tecnologia/cuando-hay-que-cambiar-la-bateria-del-celular-690664\" id=\"m1369-4-1370\">Tips para saber cuándo hay que cambiar la batería del celular</a>,\n",
       " <a class=\"title page-link\" href=\"/podcast/el-primer-cafe/plan-pistola-del-clan-del-golfo-que-pretende-con-ola-de-ataques-690623\" id=\"m1405-1-1406\">'Plan Pistola' del Clan del Golfo: ¿qué pretende con ataques organizados?</a>,\n",
       " <a class=\"title page-link\" href=\"/mundo/eeuu-y-canada/migracion-a-ee-uu-coyotes-enganan-a-viajeros-ilegales-por-facebook-690465\" id=\"m1488-5-1489\">Migración a EE. UU. por 'el hueco': Así engañan los coyotes a través de Facebook</a>,\n",
       " <a class=\"title page-link\" href=\"/justicia/jep-colombia/falsos-positivos-imputan-a-10-militares-por-casos-en-dabeiba-antioquia-690380\" id=\"m1525-3-1526\">'Falsos positivos': JEP imputa a 10 militares por casos en Dabeiba</a>,\n",
       " <a class=\"title page-link\" href=\"/economia/portafolio-estrena-nuevo-diseno-y-contenidos-690324\" id=\"m1562-3-1563\">Portafolio estrena diseño e incluye más contenidos</a>,\n",
       " <a class=\"title page-link\" href=\"/mundo/mas-regiones/nueva-zelanda-cual-seria-su-nuevo-nombre-690442\" id=\"m1599-3-1600\">¿Nueva Zelanda cambia de nombre? Esta es la propuesta del partido Maorí</a>,\n",
       " <a class=\"title page-link\" href=\"/mundo/europa/ucrania-zelenski-y-su-esposa-posan-para-vogue-y-causan-polemica-690508\" id=\"m1643-4-1644\">Polémica en Ucrania por sesión de fotos de Zelenski y su esposa para Vogue</a>,\n",
       " <a class=\"title page-link\" href=\"/politica/proceso-de-paz/alvaro-leyva-asegura-que-se-reanudaran-los-dialogos-con-el-eln-690602\" id=\"m1681-4-1682\">'Vamos a reanudar diálogos con el Eln': Álvaro Leyva</a>,\n",
       " <a class=\"title page-link\" href=\"/tecnosfera/novedades-tecnologia/google-pospone-eliminacion-de-cookies-en-chrome-hasta-2024-690659\" id=\"m1712-3-1713\">Google pospone la eliminacion de 'cookies' en Chrome hasta 2024</a>,\n",
       " <a class=\"title page-link\" href=\"/deportes/futbol-internacional/gerard-pique-jules-kounde-es-nuevo-jugador-del-barcelona-690506\" id=\"m1743-3-1744\">Piqué sigue acumulando dudas: fichaje del Barcelona amenaza su titularidad</a>,\n",
       " <a class=\"title page-link\" href=\"/mundo/europa/ucrania-zelenski-y-su-esposa-posan-para-vogue-y-causan-polemica-690508\" id=\"m1783-3-1784\">Polémica en Ucrania por sesión de fotos de Zelenski y su esposa para Vogue</a>,\n",
       " <a class=\"title page-link\" href=\"/politica/proceso-de-paz/alvaro-leyva-asegura-que-se-reanudaran-los-dialogos-con-el-eln-690602\" id=\"m1814-3-1815\">'Vamos a reanudar diálogos con el Eln': Álvaro Leyva</a>,\n",
       " <a class=\"title page-link\" href=\"/tecnosfera/novedades-tecnologia/google-pospone-eliminacion-de-cookies-en-chrome-hasta-2024-690659\" id=\"m1845-3-1846\">Google pospone la eliminacion de 'cookies' en Chrome hasta 2024</a>,\n",
       " <a class=\"title page-link\" href=\"/deportes/futbol-internacional/gerard-pique-jules-kounde-es-nuevo-jugador-del-barcelona-690506\" id=\"m1876-3-1877\">Piqué sigue acumulando dudas: fichaje del Barcelona amenaza su titularidad</a>]"
      ]
     },
     "execution_count": 7,
     "metadata": {},
     "output_type": "execute_result"
    }
   ],
   "source": [
    "len(articles)\n",
    "articles"
   ]
  },
  {
   "cell_type": "code",
   "execution_count": 10,
   "id": "422b1b73",
   "metadata": {},
   "outputs": [
    {
     "data": {
      "text/plain": [
       "'/colombia/medellin/dario-gomez-velatorio-sera-hasta-el-jueves-28-el-mediodia-690653'"
      ]
     },
     "execution_count": 10,
     "metadata": {},
     "output_type": "execute_result"
    }
   ],
   "source": [
    "a = articles[0]\n",
    "#e = a.parent.parent.find('a', class_='epigraph page-link')\n",
    "a.get('href')"
   ]
  },
  {
   "cell_type": "code",
   "execution_count": 16,
   "id": "c7b2c07d",
   "metadata": {},
   "outputs": [
    {
     "data": {
      "text/plain": [
       "'/economia/sectores/fmi-predicciones-para-el-crecimiento-de-la-economia-colombiana-690598'"
      ]
     },
     "execution_count": 16,
     "metadata": {},
     "output_type": "execute_result"
    }
   ],
   "source": [
    "e.get('href', None)"
   ]
  },
  {
   "cell_type": "code",
   "execution_count": 26,
   "id": "96e5b752",
   "metadata": {},
   "outputs": [
    {
     "data": {
      "text/plain": [
       "'/politica/gobierno/danilo-rueda-reacciones-a-su-nombramiento-como-comisionado-de-paz-689880'"
      ]
     },
     "execution_count": 26,
     "metadata": {},
     "output_type": "execute_result"
    }
   ],
   "source": [
    "e['href']"
   ]
  },
  {
   "cell_type": "code",
   "execution_count": 17,
   "id": "c668cfd8",
   "metadata": {},
   "outputs": [
    {
     "data": {
      "text/plain": [
       "'¿Por qué el FMI dice que el crecimiento económico del país doblará el del mundo?'"
      ]
     },
     "execution_count": 17,
     "metadata": {},
     "output_type": "execute_result"
    }
   ],
   "source": [
    "a.text"
   ]
  }
 ],
 "metadata": {
  "kernelspec": {
   "display_name": "Python 3.10.5 ('venv': venv)",
   "language": "python",
   "name": "python3"
  },
  "language_info": {
   "codemirror_mode": {
    "name": "ipython",
    "version": 3
   },
   "file_extension": ".py",
   "mimetype": "text/x-python",
   "name": "python",
   "nbconvert_exporter": "python",
   "pygments_lexer": "ipython3",
   "version": "3.10.5"
  },
  "vscode": {
   "interpreter": {
    "hash": "477cf1e4cf9fb8949f0642caa765222ceb0cfecdd21991d3bda932689355c89f"
   }
  }
 },
 "nbformat": 4,
 "nbformat_minor": 5
}
